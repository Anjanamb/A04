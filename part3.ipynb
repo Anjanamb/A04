{
  "nbformat": 4,
  "nbformat_minor": 0,
  "metadata": {
    "colab": {
      "name": "part3.ipynb",
      "provenance": [],
      "collapsed_sections": [],
      "authorship_tag": "ABX9TyPK6fvc39IPhKsVLHybCXri",
      "include_colab_link": true
    },
    "kernelspec": {
      "name": "python3",
      "display_name": "Python 3"
    },
    "language_info": {
      "name": "python"
    }
  },
  "cells": [
    {
      "cell_type": "markdown",
      "metadata": {
        "id": "view-in-github",
        "colab_type": "text"
      },
      "source": [
        "<a href=\"https://colab.research.google.com/github/Anjanamb/A04/blob/main/part3.ipynb\" target=\"_parent\"><img src=\"https://colab.research.google.com/assets/colab-badge.svg\" alt=\"Open In Colab\"/></a>"
      ]
    },
    {
      "cell_type": "code",
      "metadata": {
        "id": "qr3XYWnNs7nz"
      },
      "source": [
        "import tensorflow as tf\n",
        "from tensorflow import keras\n",
        "import numpy as np\n",
        "import matplotlib.pyplot as plt"
      ],
      "execution_count": 2,
      "outputs": []
    },
    {
      "cell_type": "code",
      "metadata": {
        "colab": {
          "base_uri": "https://localhost:8080/"
        },
        "id": "wDDIRobUtFqZ",
        "outputId": "ecd40757-fe13-4db7-dd5c-4734b7de7aa7"
      },
      "source": [
        "(x_train, y_train), (x_test, y_test) = keras.datasets.cifar10.load_data()\n",
        "print('x_train: ', x_train.shape)\n",
        "\n",
        "K = len(np.unique(y_train)) # Classes\n",
        "Ntr = x_train.shape[0]\n",
        "Nte = x_test.shape[0]\n",
        "Din = 3072 # CIFAR10\n",
        "# Din = 784 # MINIST\n",
        "\n",
        "# Normalize pixel values\n",
        "x_train, x_test = x_train / 255.0, x_test / 255.0\n",
        "mean_image = np.mean(x_train, axis=0)\n",
        "x_train = x_train - mean_image\n",
        "x_test = x_test - mean_image\n",
        "\n",
        "y_train = tf.keras.utils.to_categorical(y_train, num_classes=K)\n",
        "y_test = tf.keras.utils.to_categorical(y_test, num_classes=K)\n",
        "\n",
        "# Transform images from (width, width, 3) to 3072-dimensional vectors (width*width*3)\n",
        "x_train = np.reshape(x_train,(Ntr,Din))\n",
        "x_test = np.reshape(x_test,(Nte,Din))\n",
        "x_train = x_train.astype('float32')\n",
        "x_test = x_test.astype('float32')\n",
        "\n",
        "H = 200\n",
        "std = 1e-5\n",
        "w1 = std*np.random.randn(Din, H)\n",
        "w2 = std*np.random.randn(H, K)\n",
        "b1 = np.zeros(H)\n",
        "b2 = np.zeros(K)\n",
        "print(\"w1:\", w1.shape)\n",
        "print(\"b1:\", b1.shape)\n",
        "print(\"w2:\", w2.shape)\n",
        "print(\"b2:\", b2.shape)\n",
        "batch_size = 500"
      ],
      "execution_count": 5,
      "outputs": [
        {
          "output_type": "stream",
          "text": [
            "x_train:  (50000, 32, 32, 3)\n",
            "w1: (3072, 200)\n",
            "b1: (200,)\n",
            "w2: (200, 10)\n",
            "b2: (10,)\n"
          ],
          "name": "stdout"
        }
      ]
    },
    {
      "cell_type": "code",
      "metadata": {
        "colab": {
          "base_uri": "https://localhost:8080/"
        },
        "id": "DqfA-eA-tGCf",
        "outputId": "6edacbd0-ea2f-4f80-d2b2-19f9d18ce462"
      },
      "source": [
        "iterations = 300 # epochs\n",
        "lr = 0.01 # learning rate\n",
        "lr_decay = 0.99999\n",
        "reg = 0.005\n",
        "loss_history = []\n",
        "train_acc_history = []\n",
        "val_acc_history = []\n",
        "seed = 0\n",
        "rng = np.random.default_rng(seed=seed)\n",
        "for t in range(iterations):\n",
        "    batch_indices = np.arange(batch_size)\n",
        "    rng.shuffle(batch_indices)\n",
        "    #batch_indices = np.random.choice(Ntr, batch_size)\n",
        "    x = x_train[batch_indices]\n",
        "    y = y_train[batch_indices]\n",
        "    h = 1.0/(1.0 + np.exp(-(x.dot(w1) + b1)))\n",
        "    y_pred = h.dot(w2) +b2\n",
        "    loss = 1./batch_size*np.square(y_pred - y).sum() + reg * (np.sum(w2 * w2) + np.sum(w1 * w1))\n",
        "    loss_history.append(loss)\n",
        "    if t % 10 == 0:\n",
        "      print('Iteration %d / %d: loss %f' % (t, iterations, loss))\n",
        "\n",
        "    dy_pred = 1./batch_size*2.0*(y_pred -y) # partial derivative of L w.r.t y_hat backward\n",
        "    dw2 = h.T.dot(dy_pred) + reg*w2\n",
        "    db2 = dy_pred.sum(axis=0)\n",
        "    dh = dy_pred.dot(w2.T)\n",
        "    dw1 = x.T.dot(dh*h*(1-h)) + reg*w1\n",
        "    db1 = (dh*h*(1-h)).sum(axis=0)\n",
        "    w1 -= lr*dw1\n",
        "    w2 -= lr*dw2\n",
        "    b1 -= lr*db1\n",
        "    b2 -= lr*db2\n",
        "    #lr *= lr_decay"
      ],
      "execution_count": 7,
      "outputs": [
        {
          "output_type": "stream",
          "text": [
            "Iteration 0 / 300: loss 0.898189\n",
            "Iteration 10 / 300: loss 0.898189\n",
            "Iteration 20 / 300: loss 0.898189\n",
            "Iteration 30 / 300: loss 0.898189\n",
            "Iteration 40 / 300: loss 0.898188\n",
            "Iteration 50 / 300: loss 0.898188\n",
            "Iteration 60 / 300: loss 0.898188\n",
            "Iteration 70 / 300: loss 0.898188\n",
            "Iteration 80 / 300: loss 0.898188\n",
            "Iteration 90 / 300: loss 0.898187\n",
            "Iteration 100 / 300: loss 0.898187\n",
            "Iteration 110 / 300: loss 0.898187\n",
            "Iteration 120 / 300: loss 0.898187\n",
            "Iteration 130 / 300: loss 0.898187\n",
            "Iteration 140 / 300: loss 0.898186\n",
            "Iteration 150 / 300: loss 0.898186\n",
            "Iteration 160 / 300: loss 0.898186\n",
            "Iteration 170 / 300: loss 0.898186\n",
            "Iteration 180 / 300: loss 0.898185\n",
            "Iteration 190 / 300: loss 0.898185\n",
            "Iteration 200 / 300: loss 0.898185\n",
            "Iteration 210 / 300: loss 0.898185\n",
            "Iteration 220 / 300: loss 0.898184\n",
            "Iteration 230 / 300: loss 0.898184\n",
            "Iteration 240 / 300: loss 0.898184\n",
            "Iteration 250 / 300: loss 0.898183\n",
            "Iteration 260 / 300: loss 0.898183\n",
            "Iteration 270 / 300: loss 0.898183\n",
            "Iteration 280 / 300: loss 0.898182\n",
            "Iteration 290 / 300: loss 0.898182\n"
          ],
          "name": "stdout"
        }
      ]
    },
    {
      "cell_type": "code",
      "metadata": {
        "colab": {
          "base_uri": "https://localhost:8080/",
          "height": 688
        },
        "id": "XhvM9Y4mtGFB",
        "outputId": "034b67f9-8da8-4ff4-93aa-d377ef100f92"
      },
      "source": [
        "plt.plot(loss_history)\n",
        "plt.xlabel('Epocs')\n",
        "plt.ylabel('Error')\n",
        "f, axarr = plt.subplots(1,10)\n",
        "f.set_size_inches(16, 6)\n",
        "\n",
        "for i in range(10):\n",
        "    img = w1[:, i].reshape(32, 32, 3) # CIFAR10\n",
        "    #img = w1[:, i].reshape(28, 28) # MNIST\n",
        "    axarr[i].imshow(img*1000)\n",
        "plt.show()\n",
        "\n",
        "x_t = x_train\n",
        "print(\"x_train ->\", x_t.shape)\n",
        "h = 1.0/(1.0 + np.exp(-(x_t.dot(w1) + b1))) #sigmoid\n",
        "y_pred = h.dot(w2) + b2\n",
        "\n",
        "tacc = 1.0 -1/(Ntr*9)*(np.abs(np.argmax(y_train,axis=1) - np.argmax(y_pred, axis=1))).sum()\n",
        "print(\"train_acc = \", tacc)\n",
        "\n",
        "x_t = x_test\n",
        "print(\"x_test ->\", x_t.shape)\n",
        "h = 1.0/(1.0 + np.exp(-(x_t.dot(w1) + b1))) #sigmoid\n",
        "y_pred= h.dot(w2) + b2\n",
        "\n",
        "tacc = 1.0 - 1/(Nte*9)*(np.abs(np.argmax(y_test,axis=1) - np.argmax(y_pred, axis=1))).sum()\n",
        "print(\"test_acc = \", tacc)"
      ],
      "execution_count": 26,
      "outputs": [
        {
          "output_type": "stream",
          "text": [
            "Clipping input data to the valid range for imshow with RGB data ([0..1] for floats or [0..255] for integers).\n",
            "Clipping input data to the valid range for imshow with RGB data ([0..1] for floats or [0..255] for integers).\n",
            "Clipping input data to the valid range for imshow with RGB data ([0..1] for floats or [0..255] for integers).\n",
            "Clipping input data to the valid range for imshow with RGB data ([0..1] for floats or [0..255] for integers).\n",
            "Clipping input data to the valid range for imshow with RGB data ([0..1] for floats or [0..255] for integers).\n",
            "Clipping input data to the valid range for imshow with RGB data ([0..1] for floats or [0..255] for integers).\n",
            "Clipping input data to the valid range for imshow with RGB data ([0..1] for floats or [0..255] for integers).\n",
            "Clipping input data to the valid range for imshow with RGB data ([0..1] for floats or [0..255] for integers).\n",
            "Clipping input data to the valid range for imshow with RGB data ([0..1] for floats or [0..255] for integers).\n",
            "Clipping input data to the valid range for imshow with RGB data ([0..1] for floats or [0..255] for integers).\n"
          ],
          "name": "stderr"
        },
        {
          "output_type": "display_data",
          "data": {
            "image/png": "[encoded data removed]",
            "text/plain": [
              "<Figure size 432x288 with 1 Axes>"
            ]
          },
          "metadata": {
            "tags": [],
            "needs_background": "light"
          }
        },
        {
          "output_type": "display_data",
          "data": {
            "image/png": "[encoded data removed]",
            "text/plain": [
              "<Figure size 1152x432 with 10 Axes>"
            ]
          },
          "metadata": {
            "tags": [],
            "needs_background": "light"
          }
        },
        {
          "output_type": "stream",
          "text": [
            "x_train -> (50000, 3072)\n"
          ],
          "name": "stdout"
        },
        {
          "output_type": "stream",
          "text": [
            "/usr/local/lib/python3.7/dist-packages/ipykernel_launcher.py:15: RuntimeWarning: overflow encountered in exp\n",
            "  from ipykernel import kernelapp as app\n"
          ],
          "name": "stderr"
        },
        {
          "output_type": "stream",
          "text": [
            "train_acc =  0.5888888888888889\n",
            "x_test -> (10000, 3072)\n",
            "test_acc =  0.5888888888888888\n"
          ],
          "name": "stdout"
        },
        {
          "output_type": "stream",
          "text": [
            "/usr/local/lib/python3.7/dist-packages/ipykernel_launcher.py:23: RuntimeWarning: overflow encountered in exp\n"
          ],
          "name": "stderr"
        }
      ]
    },
    {
      "cell_type": "code",
      "metadata": {
        "id": "mwu2bSpM3_co"
      },
      "source": [
        ""
      ],
      "execution_count": null,
      "outputs": []
    }
  ]
}