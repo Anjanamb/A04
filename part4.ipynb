{
  "nbformat": 4,
  "nbformat_minor": 0,
  "metadata": {
    "colab": {
      "name": "part4.ipynb",
      "provenance": [],
      "collapsed_sections": [],
      "authorship_tag": "ABX9TyMSrRaIN0j2RUo24cwB/qbc",
      "include_colab_link": true
    },
    "kernelspec": {
      "name": "python3",
      "display_name": "Python 3"
    },
    "language_info": {
      "name": "python"
    }
  },
  "cells": [
    {
      "cell_type": "markdown",
      "metadata": {
        "id": "view-in-github",
        "colab_type": "text"
      },
      "source": [
        "<a href=\"https://colab.research.google.com/github/Anjanamb/A04/blob/main/part4.ipynb\" target=\"_parent\"><img src=\"https://colab.research.google.com/assets/colab-badge.svg\" alt=\"Open In Colab\"/></a>"
      ]
    },
    {
      "cell_type": "code",
      "metadata": {
        "colab": {
          "base_uri": "https://localhost:8080/",
          "height": 1000
        },
        "id": "Ng8Ynuw9kqI1",
        "outputId": "ba781b1d-b8d1-46f6-8a42-fe487ca4fd83"
      },
      "source": [
        "import tensorflow as tf\n",
        "from tensorflow.keras import datasets, layers, models\n",
        "import matplotlib.pyplot as plt\n",
        "\n",
        "(train_images, train_labels), (test_images, test_labels) = datasets.cifar10.load_data()\n",
        "\n",
        "# Convert to categorical values \n",
        "y_train = tf.keras.utils.to_categorical(train_labels, num_classes=10)\n",
        "y_test = tf.keras.utils.to_categorical(test_labels, num_classes=10)\n",
        "\n",
        "# Normalize pixel values to be between 0 and 1\n",
        "train_images, test_images = train_images / 255.0, test_images / 255.0\n",
        "\n",
        "# Create the convolutional base\n",
        "model = models.Sequential()\n",
        "model.add(layers.Conv2D(32, (3, 3), activation='relu', input_shape=(32, 32, 3)))\n",
        "model.add(layers.MaxPooling2D((2, 2)))\n",
        "model.add(layers.Conv2D(64, (3, 3), activation='relu'))\n",
        "model.add(layers.MaxPooling2D((2, 2)))\n",
        "model.add(layers.Conv2D(64, (3, 3), activation='relu'))\n",
        "model.add(layers.MaxPooling2D((2, 2)))\n",
        "# Add Dense layers on top\n",
        "model.add(layers.Flatten())\n",
        "model.add(layers.Dense(64, activation='relu'))\n",
        "model.add(layers.Dense(10))\n",
        "\n",
        "# Complete architecture of our model\n",
        "model.summary() \n",
        "\n",
        "# Compile and train the model\n",
        "model.compile(optimizer = tf.keras.optimizers.SGD(learning_rate=0.01, momentum=0.9),\n",
        "              loss=tf.keras.losses.CategoricalCrossentropy(from_logits=True),\n",
        "              metrics=['accuracy'])\n",
        "\n",
        "history = model.fit(train_images, y_train, batch_size=50, epochs=10, \n",
        "                    validation_data=(test_images, y_test))\n",
        "\n",
        "# Evaluate the model\n",
        "plt.plot(history.history['accuracy'], label='accuracy')\n",
        "plt.plot(history.history['val_accuracy'], label = 'val_accuracy')\n",
        "plt.xlabel('Epoch')\n",
        "plt.ylabel('Accuracy')\n",
        "plt.ylim([0, 1])\n",
        "plt.legend(loc='lower right')\n",
        "\n",
        "test_loss, test_acc = model.evaluate(test_images,  y_test, verbose=2)\n",
        "\n",
        "print(test_acc)"
      ],
      "execution_count": 11,
      "outputs": [
        {
          "output_type": "stream",
          "text": [
            "Model: \"sequential_5\"\n",
            "_________________________________________________________________\n",
            "Layer (type)                 Output Shape              Param #   \n",
            "=================================================================\n",
            "conv2d_15 (Conv2D)           (None, 30, 30, 32)        896       \n",
            "_________________________________________________________________\n",
            "max_pooling2d_15 (MaxPooling (None, 15, 15, 32)        0         \n",
            "_________________________________________________________________\n",
            "conv2d_16 (Conv2D)           (None, 13, 13, 64)        18496     \n",
            "_________________________________________________________________\n",
            "max_pooling2d_16 (MaxPooling (None, 6, 6, 64)          0         \n",
            "_________________________________________________________________\n",
            "conv2d_17 (Conv2D)           (None, 4, 4, 64)          36928     \n",
            "_________________________________________________________________\n",
            "max_pooling2d_17 (MaxPooling (None, 2, 2, 64)          0         \n",
            "_________________________________________________________________\n",
            "flatten_5 (Flatten)          (None, 256)               0         \n",
            "_________________________________________________________________\n",
            "dense_10 (Dense)             (None, 64)                16448     \n",
            "_________________________________________________________________\n",
            "dense_11 (Dense)             (None, 10)                650       \n",
            "=================================================================\n",
            "Total params: 73,418\n",
            "Trainable params: 73,418\n",
            "Non-trainable params: 0\n",
            "_________________________________________________________________\n",
            "Epoch 1/10\n",
            "1000/1000 [==============================] - 67s 67ms/step - loss: 2.0223 - accuracy: 0.2413 - val_loss: 1.4235 - val_accuracy: 0.4819\n",
            "Epoch 2/10\n",
            "1000/1000 [==============================] - 65s 65ms/step - loss: 1.3650 - accuracy: 0.5085 - val_loss: 1.2041 - val_accuracy: 0.5667\n",
            "Epoch 3/10\n",
            "1000/1000 [==============================] - 65s 65ms/step - loss: 1.1725 - accuracy: 0.5849 - val_loss: 1.0808 - val_accuracy: 0.6201\n",
            "Epoch 4/10\n",
            "1000/1000 [==============================] - 65s 65ms/step - loss: 1.0306 - accuracy: 0.6381 - val_loss: 1.0447 - val_accuracy: 0.6316\n",
            "Epoch 5/10\n",
            "1000/1000 [==============================] - 65s 65ms/step - loss: 0.9220 - accuracy: 0.6762 - val_loss: 1.0169 - val_accuracy: 0.6429\n",
            "Epoch 6/10\n",
            "1000/1000 [==============================] - 65s 65ms/step - loss: 0.8742 - accuracy: 0.6950 - val_loss: 0.9464 - val_accuracy: 0.6786\n",
            "Epoch 7/10\n",
            "1000/1000 [==============================] - 65s 65ms/step - loss: 0.8013 - accuracy: 0.7206 - val_loss: 0.9506 - val_accuracy: 0.6792\n",
            "Epoch 8/10\n",
            "1000/1000 [==============================] - 64s 64ms/step - loss: 0.7524 - accuracy: 0.7357 - val_loss: 0.9610 - val_accuracy: 0.6771\n",
            "Epoch 9/10\n",
            "1000/1000 [==============================] - 64s 64ms/step - loss: 0.7107 - accuracy: 0.7509 - val_loss: 0.9769 - val_accuracy: 0.6627\n",
            "Epoch 10/10\n",
            "1000/1000 [==============================] - 65s 65ms/step - loss: 0.6637 - accuracy: 0.7686 - val_loss: 0.8980 - val_accuracy: 0.6990\n",
            "313/313 - 4s - loss: 0.8980 - accuracy: 0.6990\n",
            "0.6990000009536743\n"
          ],
          "name": "stdout"
        },
        {
          "output_type": "display_data",
          "data": {
            "image/png": "[encoded data removed]",
            "text/plain": [
              "<Figure size 432x288 with 1 Axes>"
            ]
          },
          "metadata": {
            "tags": [],
            "needs_background": "light"
          }
        }
      ]
    },
    {
      "cell_type": "code",
      "metadata": {
        "colab": {
          "base_uri": "https://localhost:8080/"
        },
        "id": "MTjDY78SzPmg",
        "outputId": "a21e97ae-2915-4448-86f4-bdd5e663023e"
      },
      "source": [
        "print(train_images.shape)\n",
        "print(train_labels.shape)\n",
        "print(test_images.shape)\n",
        "print(test_labels.shape)"
      ],
      "execution_count": 7,
      "outputs": [
        {
          "output_type": "stream",
          "text": [
            "(50000, 32, 32, 3)\n",
            "(50000, 1)\n",
            "(10000, 32, 32, 3)\n",
            "(10000, 1)\n"
          ],
          "name": "stdout"
        }
      ]
    },
    {
      "cell_type": "code",
      "metadata": {
        "id": "BG9dLXfHtxFS"
      },
      "source": [
        ""
      ],
      "execution_count": null,
      "outputs": []
    }
  ]
}