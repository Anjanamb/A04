{
  "nbformat": 4,
  "nbformat_minor": 0,
  "metadata": {
    "colab": {
      "name": "part4.ipynb",
      "provenance": [],
      "collapsed_sections": [],
      "authorship_tag": "ABX9TyNHmVEnUKZhkM7xr7bov9A/",
      "include_colab_link": true
    },
    "kernelspec": {
      "name": "python3",
      "display_name": "Python 3"
    },
    "language_info": {
      "name": "python"
    }
  },
  "cells": [
    {
      "cell_type": "markdown",
      "metadata": {
        "id": "view-in-github",
        "colab_type": "text"
      },
      "source": [
        "<a href=\"https://colab.research.google.com/github/Anjanamb/A04/blob/main/part4.ipynb\" target=\"_parent\"><img src=\"https://colab.research.google.com/assets/colab-badge.svg\" alt=\"Open In Colab\"/></a>"
      ]
    },
    {
      "cell_type": "code",
      "metadata": {
        "colab": {
          "base_uri": "https://localhost:8080/",
          "height": 1000
        },
        "id": "Ng8Ynuw9kqI1",
        "outputId": "d52e8a8e-b39f-4bd4-e836-2b966afec09f"
      },
      "source": [
        "import tensorflow as tf\n",
        "from tensorflow.keras import datasets, layers, models\n",
        "import matplotlib.pyplot as plt\n",
        "\n",
        "(train_images, train_labels), (test_images, test_labels) = datasets.cifar10.load_data()\n",
        "\n",
        "# Convert to categorical values \n",
        "y_train = tf.keras.utils.to_categorical(train_labels, num_classes=10)\n",
        "y_test = tf.keras.utils.to_categorical(test_labels, num_classes=10)\n",
        "\n",
        "# Normalize pixel values to be between 0 and 1\n",
        "train_images, test_images = train_images / 255.0, test_images / 255.0\n",
        "\n",
        "# Create the convolutional base\n",
        "model = models.Sequential()\n",
        "model.add(layers.Conv2D(32, (3, 3), activation='relu', input_shape=(32, 32, 3)))\n",
        "model.add(layers.MaxPooling2D((2, 2)))\n",
        "model.add(layers.Conv2D(64, (3, 3), activation='relu'))\n",
        "model.add(layers.MaxPooling2D((2, 2)))\n",
        "model.add(layers.Conv2D(64, (3, 3), activation='relu'))\n",
        "model.add(layers.MaxPooling2D((2, 2)))\n",
        "# Add Dense layers on top\n",
        "model.add(layers.Flatten())\n",
        "model.add(layers.Dense(64, activation='relu'))\n",
        "model.add(layers.Dense(10))\n",
        "\n",
        "# Complete architecture of our model\n",
        "model.summary() \n",
        "\n",
        "# Compile and train the model\n",
        "model.compile(optimizer = tf.keras.optimizers.SGD(learning_rate=0.001, momentum=0.9),\n",
        "              loss=tf.keras.losses.CategoricalCrossentropy(from_logits=True),\n",
        "              metrics=['accuracy'])\n",
        "\n",
        "history = model.fit(train_images, y_train, batch_size=50, epochs=20, \n",
        "                    validation_data=(test_images, y_test))\n",
        "\n",
        "# Evaluate the model\n",
        "fig = plt.figure()\n",
        "\n",
        "plt.subplot(1, 2, 1)\n",
        "plt.plot(history.history['accuracy'], label='accuracy')\n",
        "plt.plot(history.history['val_accuracy'], label = 'val_accuracy')\n",
        "plt.title('model accuracy')\n",
        "plt.xlabel('Epoch')\n",
        "plt.ylabel('Accuracy')\n",
        "plt.ylim([0, 1])\n",
        "plt.legend(loc='lower right')\n",
        "\n",
        "plt.subplot(1, 2, 2)\n",
        "plt.plot(history.history['loss'])\n",
        "plt.plot(history.history['val_loss'])\n",
        "plt.title('model loss')\n",
        "plt.ylabel('loss')\n",
        "plt.xlabel('epoch')\n",
        "plt.legend(['train', 'val'], loc='upper left')\n",
        "plt.show()\n",
        "\n",
        "\n",
        "train_loss, train_acc = model.evaluate(train_images,  y_train, verbose=2)\n",
        "test_loss, test_acc = model.evaluate(test_images,  y_test, verbose=2)\n",
        "\n",
        "print(\"train_acc = \", train_acc)\n",
        "print(\"train_loss = \", train_loss)\n",
        "print(\"test_acc = \", test_acc)\n",
        "print(\"test_loss = \", test_loss)"
      ],
      "execution_count": 13,
      "outputs": [
        {
          "output_type": "stream",
          "text": [
            "Model: \"sequential_12\"\n",
            "_________________________________________________________________\n",
            "Layer (type)                 Output Shape              Param #   \n",
            "=================================================================\n",
            "conv2d_36 (Conv2D)           (None, 30, 30, 32)        896       \n",
            "_________________________________________________________________\n",
            "max_pooling2d_36 (MaxPooling (None, 15, 15, 32)        0         \n",
            "_________________________________________________________________\n",
            "conv2d_37 (Conv2D)           (None, 13, 13, 64)        18496     \n",
            "_________________________________________________________________\n",
            "max_pooling2d_37 (MaxPooling (None, 6, 6, 64)          0         \n",
            "_________________________________________________________________\n",
            "conv2d_38 (Conv2D)           (None, 4, 4, 64)          36928     \n",
            "_________________________________________________________________\n",
            "max_pooling2d_38 (MaxPooling (None, 2, 2, 64)          0         \n",
            "_________________________________________________________________\n",
            "flatten_12 (Flatten)         (None, 256)               0         \n",
            "_________________________________________________________________\n",
            "dense_24 (Dense)             (None, 64)                16448     \n",
            "_________________________________________________________________\n",
            "dense_25 (Dense)             (None, 10)                650       \n",
            "=================================================================\n",
            "Total params: 73,418\n",
            "Trainable params: 73,418\n",
            "Non-trainable params: 0\n",
            "_________________________________________________________________\n",
            "Epoch 1/20\n",
            "1000/1000 [==============================] - 73s 72ms/step - loss: 2.2678 - accuracy: 0.1273 - val_loss: 2.0252 - val_accuracy: 0.2539\n",
            "Epoch 2/20\n",
            "1000/1000 [==============================] - 66s 66ms/step - loss: 1.9948 - accuracy: 0.2631 - val_loss: 1.8068 - val_accuracy: 0.3369\n",
            "Epoch 3/20\n",
            "1000/1000 [==============================] - 66s 66ms/step - loss: 1.7860 - accuracy: 0.3519 - val_loss: 1.6281 - val_accuracy: 0.4029\n",
            "Epoch 4/20\n",
            "1000/1000 [==============================] - 67s 67ms/step - loss: 1.6135 - accuracy: 0.4130 - val_loss: 1.5127 - val_accuracy: 0.4476\n",
            "Epoch 5/20\n",
            "1000/1000 [==============================] - 66s 66ms/step - loss: 1.5033 - accuracy: 0.4585 - val_loss: 1.4545 - val_accuracy: 0.4725\n",
            "Epoch 6/20\n",
            "1000/1000 [==============================] - 67s 67ms/step - loss: 1.4162 - accuracy: 0.4907 - val_loss: 1.3594 - val_accuracy: 0.5131\n",
            "Epoch 7/20\n",
            "1000/1000 [==============================] - 67s 67ms/step - loss: 1.3562 - accuracy: 0.5182 - val_loss: 1.3551 - val_accuracy: 0.5135\n",
            "Epoch 8/20\n",
            "1000/1000 [==============================] - 67s 67ms/step - loss: 1.3017 - accuracy: 0.5320 - val_loss: 1.2522 - val_accuracy: 0.5565\n",
            "Epoch 9/20\n",
            "1000/1000 [==============================] - 67s 67ms/step - loss: 1.2341 - accuracy: 0.5582 - val_loss: 1.2327 - val_accuracy: 0.5602\n",
            "Epoch 10/20\n",
            "1000/1000 [==============================] - 67s 67ms/step - loss: 1.2028 - accuracy: 0.5750 - val_loss: 1.1980 - val_accuracy: 0.5794\n",
            "Epoch 11/20\n",
            "1000/1000 [==============================] - 72s 72ms/step - loss: 1.1600 - accuracy: 0.5922 - val_loss: 1.1629 - val_accuracy: 0.5901\n",
            "Epoch 12/20\n",
            "1000/1000 [==============================] - 66s 66ms/step - loss: 1.1207 - accuracy: 0.6051 - val_loss: 1.1527 - val_accuracy: 0.6003\n",
            "Epoch 13/20\n",
            "1000/1000 [==============================] - 66s 66ms/step - loss: 1.0803 - accuracy: 0.6231 - val_loss: 1.1048 - val_accuracy: 0.6121\n",
            "Epoch 14/20\n",
            "1000/1000 [==============================] - 67s 67ms/step - loss: 1.0530 - accuracy: 0.6304 - val_loss: 1.1058 - val_accuracy: 0.6192\n",
            "Epoch 15/20\n",
            "1000/1000 [==============================] - 66s 66ms/step - loss: 1.0412 - accuracy: 0.6364 - val_loss: 1.0678 - val_accuracy: 0.6293\n",
            "Epoch 16/20\n",
            "1000/1000 [==============================] - 66s 66ms/step - loss: 0.9994 - accuracy: 0.6518 - val_loss: 1.0681 - val_accuracy: 0.6291\n",
            "Epoch 17/20\n",
            "1000/1000 [==============================] - 66s 66ms/step - loss: 0.9840 - accuracy: 0.6582 - val_loss: 1.0484 - val_accuracy: 0.6349\n",
            "Epoch 18/20\n",
            "1000/1000 [==============================] - 67s 67ms/step - loss: 0.9657 - accuracy: 0.6633 - val_loss: 1.0215 - val_accuracy: 0.6462\n",
            "Epoch 19/20\n",
            "1000/1000 [==============================] - 66s 66ms/step - loss: 0.9404 - accuracy: 0.6706 - val_loss: 1.0560 - val_accuracy: 0.6387\n",
            "Epoch 20/20\n",
            "1000/1000 [==============================] - 66s 66ms/step - loss: 0.9149 - accuracy: 0.6808 - val_loss: 0.9971 - val_accuracy: 0.6538\n"
          ],
          "name": "stdout"
        },
        {
          "output_type": "display_data",
          "data": {
            "image/png": "[encoded data removed]",
            "text/plain": [
              "<Figure size 432x288 with 2 Axes>"
            ]
          },
          "metadata": {
            "tags": [],
            "needs_background": "light"
          }
        },
        {
          "output_type": "stream",
          "text": [
            "1563/1563 - 18s - loss: 0.8809 - accuracy: 0.6932\n",
            "313/313 - 4s - loss: 0.9971 - accuracy: 0.6538\n",
            "train_acc =  0.6932200193405151\n",
            "train_loss =  0.8809393644332886\n",
            "test_acc =  0.6538000106811523\n",
            "test_loss =  0.997122585773468\n"
          ],
          "name": "stdout"
        }
      ]
    },
    {
      "cell_type": "code",
      "metadata": {
        "id": "q6PFfC9C5MJ3"
      },
      "source": [
        ""
      ],
      "execution_count": null,
      "outputs": []
    }
  ]
}